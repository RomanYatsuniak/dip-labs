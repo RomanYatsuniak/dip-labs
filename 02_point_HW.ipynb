{
 "cells": [
  {
   "cell_type": "markdown",
   "metadata": {},
   "source": [
    "# Zadanie domowe\n",
    "\n",
    "W przypadku obrazów w odcieniach szarości pojedynczy piksel z zakresu [0; 255] reprezentowany jest jako 8-bitowa liczba bez znaku.\n",
    "Pewnym rozszerzeniem analizy sposobu reprezentacji obrazu może być następujący eksperyment.\n",
    "Załóżmy, że z każdego z 8 bitów możemy stworzyć pojedynczy obraz binarny (ang. _bit-plane slicing_).\n",
    "Dla obrazka _100zloty.jpg_ (https://raw.githubusercontent.com/vision-agh/poc_sw/master/02_Point/100zloty.jpg) stwórz 8 obrazów, z których każdy powinien zawierać jedną płaszczyznę bitową.\n",
    "Podpowiedź $-$ warto sprawdzić, jak realizuje się bitowe operacje logiczne.\n",
    "Zastosowanie takiej dekompozycji obrazu pozwala na analizę ,,ważności'' poszczególnych bitów.\n",
    "Jest to użyteczne w kwantyzacji, ale także w kompresji.\n",
    "\n",
    "W drugim etapie zadania proszę spróbować odtworzyć obraz oryginalny z mniejszej liczby obrazów binarnych.\n",
    "Warto zacząć od dwóch najbardziej znaczących bitów, a później dodawać kolejne.\n",
    "Należy utworzyć co najmniej trzy wersje zrekonstruowanych obrazów.\n",
    "Podpowiedź $-$ rekonstrukcja obrazu to mnożenie przez odpowiednią potęgę liczby 2 (przesunięcie bitowe) oraz dodawanie.\n"
   ]
  },
  {
   "cell_type": "code",
   "execution_count": 3,
   "metadata": {
    "pycharm": {
     "name": "#%%\n"
    }
   },
   "outputs": [],
   "source": [
    "import cv2\n",
    "import numpy as np\n",
    "import matplotlib.pyplot as plt\n",
    "import os\n",
    "def get_slice(bps, n):\n",
    "  assert len(bps) < n\n",
    "\treturn ((2 ** n) * bps[n])\n",
    "if not os.path.exists('100zloty.jpg'):\n",
    "    !wget https://raw.githubusercontent.com/vision-agh/poc_sw/master/02_Point/100zloty.jpg\n",
    "im_100_zloty = cv2.imread(\"100zloty.jpg\")\n",
    "bps = []\n",
    "\n",
    "for i in range(8):\n",
    "    bps.append((im_100 >> i) & 1)\n",
    "im_orig = ((2 ** 0) * bps[0])\n",
    "for i, im in enumerate(bps[1:]):\n",
    "    im_orig += (2 ** (i + 1)) * im\n",
    "plt.imshow(im_orig)\n",
    "plt.show()\n",
    "im = ((2 ** 7) * bps[7]) + ((2 ** 6) * bps[6])\n",
    "plt.imshow(im)\n",
    "plt.show()"
   ]
  },
  {
   "cell_type": "code",
   "execution_count": null,
   "outputs": [],
   "source": [],
   "metadata": {
    "collapsed": false,
    "pycharm": {
     "name": "#%%\n"
    }
   }
  },
  {
   "cell_type": "code",
   "execution_count": null,
   "metadata": {},
   "outputs": [],
   "source": []
  }
 ],
 "metadata": {
  "kernelspec": {
   "display_name": "Python 3",
   "language": "python",
   "name": "python3"
  },
  "language_info": {
   "codemirror_mode": {
    "name": "ipython",
    "version": 3
   },
   "file_extension": ".py",
   "mimetype": "text/x-python",
   "name": "python",
   "nbconvert_exporter": "python",
   "pygments_lexer": "ipython3",
   "version": "3.8.6"
  }
 },
 "nbformat": 4,
 "nbformat_minor": 1
}